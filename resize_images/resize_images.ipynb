{
 "cells": [
  {
   "cell_type": "code",
   "execution_count": 6,
   "metadata": {},
   "outputs": [
    {
     "name": "stdout",
     "output_type": "stream",
     "text": [
      "output/image-alignment-150x150.jpg\n",
      "=== error：cannot write mode RGBA as JPEG\n",
      "output/image-alignment-300x200.jpg\n",
      "=== error：cannot write mode RGBA as JPEG\n",
      "output/image-alignment-580x300.jpg\n",
      "=== error：cannot write mode RGBA as JPEG\n",
      "output/image-alignment-1200x4002.jpg\n",
      "=== error：cannot write mode RGBA as JPEG\n",
      "output/mstile-70x70.png\n",
      "images outputs to: output/mstile-70x70.png\n",
      "output/mstile-144x144.png\n",
      "images outputs to: output/mstile-144x144.png\n",
      "output/mstile-150x150.png\n",
      "images outputs to: output/mstile-150x150.png\n",
      "output/mstile-310x150.png\n",
      "images outputs to: output/mstile-310x150.png\n",
      "output/mstile-310x310.png\n",
      "images outputs to: output/mstile-310x310.png\n",
      "output/apple-touch-icon-60x60.png\n",
      "images outputs to: output/apple-touch-icon-60x60.png\n",
      "output/apple-touch-icon-76x76.png\n",
      "images outputs to: output/apple-touch-icon-76x76.png\n",
      "output/apple-touch-icon-120x120.png\n",
      "images outputs to: output/apple-touch-icon-120x120.png\n",
      "output/apple-touch-icon-152x152.png\n",
      "images outputs to: output/apple-touch-icon-152x152.png\n",
      "output/apple-touch-icon-180x180.png\n",
      "images outputs to: output/apple-touch-icon-180x180.png\n",
      "output/favicon-16x16.png\n",
      "images outputs to: output/favicon-16x16.png\n",
      "output/favicon-16x32.png\n",
      "images outputs to: output/favicon-16x32.png\n",
      "output/favicon-32x32.png\n",
      "images outputs to: output/favicon-32x32.png\n",
      "output/android-chrome-192x192.png\n",
      "images outputs to: output/android-chrome-192x192.png\n",
      "output/android-chrome-512x512.png\n",
      "images outputs to: output/android-chrome-512x512.png\n",
      "images outputs to: output/favicon.ico\n",
      "copy file to output/safari-pinned-tab.svg\n"
     ]
    }
   ],
   "source": [
    "from PIL import Image\n",
    "import shutil\n",
    "\n",
    "def resize_image(input_path, output_path, new_width, new_height):\n",
    "    try:\n",
    "        image = Image.open(input_path)\n",
    "        \n",
    "        resized_image = image.resize((new_width, new_height))\n",
    "        \n",
    "        resized_image.save(output_path)\n",
    "        print(f\"images outputs to: {output_path}\")\n",
    "    except Exception as e:\n",
    "        print(f\"=== error：{e}\")\n",
    "\n",
    "def copy_file(source_path, destination_path):\n",
    "    try:\n",
    "        # 复制文件\n",
    "        shutil.copy(source_path, destination_path)\n",
    "        print(f\"copy file to {destination_path}\")\n",
    "    except Exception as e:\n",
    "        print(f\"=== error: {e}\")\n",
    "\n",
    "input_image_path = 'whale-body-1-512.png' \n",
    "svg_image_path = 'whale-body-1.svg'\n",
    "output_message = {'image-alignment':[[150, 300, 580, 1200], [150, 200, 300, 4002]], \n",
    "'mstile':[[70, 144, 150, 310, 310], [70, 144, 150, 150, 310]],\n",
    "'apple-touch-icon':[[60, 76, 120, 152, 180],[60, 76, 120, 152, 180]],\n",
    "'favicon':[[16, 16, 32], [16, 32, 32]],\n",
    "'android-chrome':[[192, 512], [192, 512]]\n",
    "}\n",
    "for key, size_list in output_message.items():\n",
    "    for i in range(len(size_list[0])):\n",
    "        new_width, new_height = size_list[0][i], size_list[1][i]\n",
    "        if 'image-alignment' in key:\n",
    "            output_image_path = os.path.join('output', '{}-{}x{}.jpg'.format(key, str(new_width), str(new_height)))\n",
    "        else:\n",
    "            output_image_path = os.path.join('output', '{}-{}x{}.png'.format(key, str(new_width), str(new_height)))\n",
    "        print(output_image_path)\n",
    "        resize_image(input_image_path, output_image_path, new_width, new_height)\n",
    "\n",
    "resize_image(input_image_path, os.path.join('output', 'favicon.ico'), 48, 48)\n",
    "\n",
    "# rename safari svg\n",
    "copy_file(svg_image_path, os.path.join('output', 'safari-pinned-tab.svg'))"
   ]
  }
 ],
 "metadata": {
  "kernelspec": {
   "display_name": "Python 3.9.16 ('torch')",
   "language": "python",
   "name": "python3"
  },
  "language_info": {
   "codemirror_mode": {
    "name": "ipython",
    "version": 3
   },
   "file_extension": ".py",
   "mimetype": "text/x-python",
   "name": "python",
   "nbconvert_exporter": "python",
   "pygments_lexer": "ipython3",
   "version": "3.9.16"
  },
  "orig_nbformat": 4,
  "vscode": {
   "interpreter": {
    "hash": "6970a2e44d77329138d20de2eb22fbe3efa02c28bc4a7326b0ca62a8c08ba23e"
   }
  }
 },
 "nbformat": 4,
 "nbformat_minor": 2
}
